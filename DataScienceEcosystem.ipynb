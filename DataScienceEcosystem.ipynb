{
 "cells": [
  {
   "cell_type": "markdown",
   "id": "86ae6304-1c39-4544-acbf-c39d2ad2314e",
   "metadata": {},
   "source": [
    "# Data Science Tools and Ecosystem"
   ]
  },
  {
   "cell_type": "markdown",
   "id": "a46ffb82-22c8-46db-b49e-a33341bae44b",
   "metadata": {},
   "source": [
    "In this notebook, Data Science Tools and Ecosystem are summarised."
   ]
  },
  {
   "cell_type": "markdown",
   "id": "c0398d18-bc29-4890-b08f-02c8299ac9b7",
   "metadata": {},
   "source": [
    "**Objectives: Get to know about Data Science Tools**\n",
    "- Python\n",
    "- R\n",
    "- GitHub\n",
    "- Jupyterlab\n"
   ]
  },
  {
   "cell_type": "markdown",
   "id": "d59dbf0f-b693-47b1-b29a-d6f92f38da69",
   "metadata": {},
   "source": [
    "Some of the popular languages that Data Scientists use are :\n",
    "\n",
    "1. Python\n",
    "2. R\n",
    "3. SQL"
   ]
  },
  {
   "cell_type": "markdown",
   "id": "9ae776ef-fc6a-45c0-b7ef-269c361916c9",
   "metadata": {},
   "source": [
    "Some of the commonly used libraries used by Data Scientists include :\n",
    "\n",
    "1. Numpy\n",
    "2. Pandas\n",
    "3. Matplotlib"
   ]
  },
  {
   "cell_type": "markdown",
   "id": "ec129d59-f94f-44fe-8f85-88d42a59c07e",
   "metadata": {},
   "source": [
    "| Data Science Tools |\n",
    "| ------------------ |\n",
    "| Jupyterlab |\n",
    "| Spyder |\n",
    "| RStudio |\n"
   ]
  },
  {
   "cell_type": "markdown",
   "id": "74e5d7fe-46b9-4308-a80e-9bbf6a4357f3",
   "metadata": {},
   "source": [
    "### Below are few examples of evaluating arithmetic expressions in Python\n",
    "x = 30\n",
    "y = x + 12\n",
    "z = y * 3"
   ]
  },
  {
   "cell_type": "code",
   "execution_count": 1,
   "id": "25e377d3-99bd-4615-83d1-acd96cc2c15a",
   "metadata": {},
   "outputs": [
    {
     "data": {
      "text/plain": [
       "17"
      ]
     },
     "execution_count": 1,
     "metadata": {},
     "output_type": "execute_result"
    }
   ],
   "source": [
    "# This a simple arithmetic expression to multiply then add integers\n",
    "(3*4)+5"
   ]
  },
  {
   "cell_type": "code",
   "execution_count": 2,
   "id": "7e6adb22-bdf0-46bb-9d39-a406515037fe",
   "metadata": {},
   "outputs": [
    {
     "data": {
      "text/plain": [
       "3.3333333333333335"
      ]
     },
     "execution_count": 2,
     "metadata": {},
     "output_type": "execute_result"
    }
   ],
   "source": [
    "# This will convert 200 minutes to hours by dividing by 60\n",
    "200/60"
   ]
  },
  {
   "cell_type": "markdown",
   "id": "315e1cb5-a0b4-47e9-8ae4-bf1dac66acc8",
   "metadata": {},
   "source": [
    "## Author\n",
    "Lakshmi Holla,\n",
    "Niveditha Pandith"
   ]
  },
  {
   "cell_type": "code",
   "execution_count": null,
   "id": "a60b6e6c-2547-4112-bbdd-8c11cd8831e4",
   "metadata": {},
   "outputs": [],
   "source": []
  }
 ],
 "metadata": {
  "kernelspec": {
   "display_name": "Python 3 (ipykernel)",
   "language": "python",
   "name": "python3"
  },
  "language_info": {
   "codemirror_mode": {
    "name": "ipython",
    "version": 3
   },
   "file_extension": ".py",
   "mimetype": "text/x-python",
   "name": "python",
   "nbconvert_exporter": "python",
   "pygments_lexer": "ipython3",
   "version": "3.9.13"
  }
 },
 "nbformat": 4,
 "nbformat_minor": 5
}
